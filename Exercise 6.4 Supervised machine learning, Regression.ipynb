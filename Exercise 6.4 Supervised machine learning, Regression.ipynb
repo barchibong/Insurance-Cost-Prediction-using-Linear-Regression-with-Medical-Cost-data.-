{
 "cells": [
  {
   "cell_type": "code",
   "execution_count": 4,
   "id": "b73342d2",
   "metadata": {},
   "outputs": [],
   "source": [
    "#Importing libraries\n",
    "import pandas as pd\n",
    "import numpy as np\n",
    "import seaborn as sns\n",
    "import matplotlib\n",
    "import matplotlib.pyplot as plt\n",
    "import os\n",
    "import sklearn\n",
    "from sklearn.model_selection import train_test_split\n",
    "from sklearn.linear_model import LinearRegression\n",
    "from sklearn.metrics import mean_squared_error, r2_score"
   ]
  },
  {
   "cell_type": "code",
   "execution_count": 5,
   "id": "b42058e2",
   "metadata": {},
   "outputs": [],
   "source": [
    "#Importing data\n",
    "df= pd.read_csv(r'C:\\Users\\B.Archibong\\Downloads\\Achievement 6\\Data\\Original\\insurance.csv',index_col = False)"
   ]
  },
  {
   "cell_type": "code",
   "execution_count": 6,
   "id": "cef9e71c",
   "metadata": {},
   "outputs": [
    {
     "data": {
      "text/html": [
       "<div>\n",
       "<style scoped>\n",
       "    .dataframe tbody tr th:only-of-type {\n",
       "        vertical-align: middle;\n",
       "    }\n",
       "\n",
       "    .dataframe tbody tr th {\n",
       "        vertical-align: top;\n",
       "    }\n",
       "\n",
       "    .dataframe thead th {\n",
       "        text-align: right;\n",
       "    }\n",
       "</style>\n",
       "<table border=\"1\" class=\"dataframe\">\n",
       "  <thead>\n",
       "    <tr style=\"text-align: right;\">\n",
       "      <th></th>\n",
       "      <th>age</th>\n",
       "      <th>sex</th>\n",
       "      <th>bmi</th>\n",
       "      <th>children</th>\n",
       "      <th>smoker</th>\n",
       "      <th>region</th>\n",
       "      <th>charges</th>\n",
       "    </tr>\n",
       "  </thead>\n",
       "  <tbody>\n",
       "    <tr>\n",
       "      <th>0</th>\n",
       "      <td>19</td>\n",
       "      <td>female</td>\n",
       "      <td>27.900</td>\n",
       "      <td>0</td>\n",
       "      <td>yes</td>\n",
       "      <td>southwest</td>\n",
       "      <td>16884.92400</td>\n",
       "    </tr>\n",
       "    <tr>\n",
       "      <th>1</th>\n",
       "      <td>18</td>\n",
       "      <td>male</td>\n",
       "      <td>33.770</td>\n",
       "      <td>1</td>\n",
       "      <td>no</td>\n",
       "      <td>southeast</td>\n",
       "      <td>1725.55230</td>\n",
       "    </tr>\n",
       "    <tr>\n",
       "      <th>2</th>\n",
       "      <td>28</td>\n",
       "      <td>male</td>\n",
       "      <td>33.000</td>\n",
       "      <td>3</td>\n",
       "      <td>no</td>\n",
       "      <td>southeast</td>\n",
       "      <td>4449.46200</td>\n",
       "    </tr>\n",
       "    <tr>\n",
       "      <th>3</th>\n",
       "      <td>33</td>\n",
       "      <td>male</td>\n",
       "      <td>22.705</td>\n",
       "      <td>0</td>\n",
       "      <td>no</td>\n",
       "      <td>northwest</td>\n",
       "      <td>21984.47061</td>\n",
       "    </tr>\n",
       "    <tr>\n",
       "      <th>4</th>\n",
       "      <td>32</td>\n",
       "      <td>male</td>\n",
       "      <td>28.880</td>\n",
       "      <td>0</td>\n",
       "      <td>no</td>\n",
       "      <td>northwest</td>\n",
       "      <td>3866.85520</td>\n",
       "    </tr>\n",
       "  </tbody>\n",
       "</table>\n",
       "</div>"
      ],
      "text/plain": [
       "   age     sex     bmi  children smoker     region      charges\n",
       "0   19  female  27.900         0    yes  southwest  16884.92400\n",
       "1   18    male  33.770         1     no  southeast   1725.55230\n",
       "2   28    male  33.000         3     no  southeast   4449.46200\n",
       "3   33    male  22.705         0     no  northwest  21984.47061\n",
       "4   32    male  28.880         0     no  northwest   3866.85520"
      ]
     },
     "execution_count": 6,
     "metadata": {},
     "output_type": "execute_result"
    }
   ],
   "source": [
    "df.head()"
   ]
  },
  {
   "cell_type": "code",
   "execution_count": 7,
   "id": "7fba59ca",
   "metadata": {},
   "outputs": [
    {
     "data": {
      "text/plain": [
       "(1338, 7)"
      ]
     },
     "execution_count": 7,
     "metadata": {},
     "output_type": "execute_result"
    }
   ],
   "source": [
    "df.shape"
   ]
  },
  {
   "cell_type": "code",
   "execution_count": 8,
   "id": "600795b8",
   "metadata": {},
   "outputs": [],
   "source": [
    "#Data cleaning#Rename columns\n",
    "df.rename(columns = {'charges' : 'insurance costs'}, inplace = True)"
   ]
  },
  {
   "cell_type": "code",
   "execution_count": 9,
   "id": "b945a178",
   "metadata": {},
   "outputs": [
    {
     "name": "stdout",
     "output_type": "stream",
     "text": [
      "Index(['age', 'sex', 'bmi', 'children', 'smoker', 'region', 'insurance costs'], dtype='object')\n"
     ]
    }
   ],
   "source": [
    "print(df.columns)"
   ]
  },
  {
   "cell_type": "code",
   "execution_count": 10,
   "id": "744846fe",
   "metadata": {},
   "outputs": [
    {
     "data": {
      "image/png": "[encoded data removed]",
      "text/plain": [
       "<Figure size 640x480 with 1 Axes>"
      ]
     },
     "metadata": {},
     "output_type": "display_data"
    }
   ],
   "source": [
    "#Data prep for regression analysis#creating a scatterplot of age and insurance costs\n",
    "df.plot(x = 'age', y='insurance costs',style='o')\n",
    "plt.title('age vs insurance costs')\n",
    "plt.xlabel('age')\n",
    "plt.ylabel('insurance costs')\n",
    "plt.show()"
   ]
  },
  {
   "cell_type": "code",
   "execution_count": 11,
   "id": "30db8a3b",
   "metadata": {},
   "outputs": [],
   "source": [
    "# Reshape the variables into NumPy arrays and put them into separate objects\n",
    "X = df['age'].values.reshape(-1,1)\n",
    "y = df['insurance costs'].values.reshape(-1,1)"
   ]
  },
  {
   "cell_type": "code",
   "execution_count": 12,
   "id": "72fbd80b",
   "metadata": {},
   "outputs": [
    {
     "data": {
      "text/plain": [
       "array([[19],\n",
       "       [18],\n",
       "       [28],\n",
       "       ...,\n",
       "       [18],\n",
       "       [21],\n",
       "       [61]], dtype=int64)"
      ]
     },
     "execution_count": 12,
     "metadata": {},
     "output_type": "execute_result"
    }
   ],
   "source": [
    "X"
   ]
  },
  {
   "cell_type": "code",
   "execution_count": 13,
   "id": "fcaf8238",
   "metadata": {},
   "outputs": [
    {
     "data": {
      "text/plain": [
       "array([[16884.924 ],\n",
       "       [ 1725.5523],\n",
       "       [ 4449.462 ],\n",
       "       ...,\n",
       "       [ 1629.8335],\n",
       "       [ 2007.945 ],\n",
       "       [29141.3603]])"
      ]
     },
     "execution_count": 13,
     "metadata": {},
     "output_type": "execute_result"
    }
   ],
   "source": [
    "y"
   ]
  },
  {
   "cell_type": "code",
   "execution_count": 14,
   "id": "278f3684",
   "metadata": {},
   "outputs": [],
   "source": [
    "# Split data into a training set and a test set\n",
    "X_train, X_test, y_train, y_test = train_test_split(X, y, test_size=0.3, random_state=0)"
   ]
  },
  {
   "cell_type": "code",
   "execution_count": 15,
   "id": "dd93490d",
   "metadata": {},
   "outputs": [],
   "source": [
    "# Regression analysis\n",
    "#Creating a regression object\n",
    "regression = LinearRegression() # # This is the regression object, which will be fit onto the training set\n"
   ]
  },
  {
   "cell_type": "code",
   "execution_count": 16,
   "id": "79882240",
   "metadata": {},
   "outputs": [
    {
     "data": {
      "text/html": [
       "<style>#sk-container-id-1 {color: black;background-color: white;}#sk-container-id-1 pre{padding: 0;}#sk-container-id-1 div.sk-toggleable {background-color: white;}#sk-container-id-1 label.sk-toggleable__label {cursor: pointer;display: block;width: 100%;margin-bottom: 0;padding: 0.3em;box-sizing: border-box;text-align: center;}#sk-container-id-1 label.sk-toggleable__label-arrow:before {content: \"▸\";float: left;margin-right: 0.25em;color: #696969;}#sk-container-id-1 label.sk-toggleable__label-arrow:hover:before {color: black;}#sk-container-id-1 div.sk-estimator:hover label.sk-toggleable__label-arrow:before {color: black;}#sk-container-id-1 div.sk-toggleable__content {max-height: 0;max-width: 0;overflow: hidden;text-align: left;background-color: #f0f8ff;}#sk-container-id-1 div.sk-toggleable__content pre {margin: 0.2em;color: black;border-radius: 0.25em;background-color: #f0f8ff;}#sk-container-id-1 input.sk-toggleable__control:checked~div.sk-toggleable__content {max-height: 200px;max-width: 100%;overflow: auto;}#sk-container-id-1 input.sk-toggleable__control:checked~label.sk-toggleable__label-arrow:before {content: \"▾\";}#sk-container-id-1 div.sk-estimator input.sk-toggleable__control:checked~label.sk-toggleable__label {background-color: #d4ebff;}#sk-container-id-1 div.sk-label input.sk-toggleable__control:checked~label.sk-toggleable__label {background-color: #d4ebff;}#sk-container-id-1 input.sk-hidden--visually {border: 0;clip: rect(1px 1px 1px 1px);clip: rect(1px, 1px, 1px, 1px);height: 1px;margin: -1px;overflow: hidden;padding: 0;position: absolute;width: 1px;}#sk-container-id-1 div.sk-estimator {font-family: monospace;background-color: #f0f8ff;border: 1px dotted black;border-radius: 0.25em;box-sizing: border-box;margin-bottom: 0.5em;}#sk-container-id-1 div.sk-estimator:hover {background-color: #d4ebff;}#sk-container-id-1 div.sk-parallel-item::after {content: \"\";width: 100%;border-bottom: 1px solid gray;flex-grow: 1;}#sk-container-id-1 div.sk-label:hover label.sk-toggleable__label {background-color: #d4ebff;}#sk-container-id-1 div.sk-serial::before {content: \"\";position: absolute;border-left: 1px solid gray;box-sizing: border-box;top: 0;bottom: 0;left: 50%;z-index: 0;}#sk-container-id-1 div.sk-serial {display: flex;flex-direction: column;align-items: center;background-color: white;padding-right: 0.2em;padding-left: 0.2em;position: relative;}#sk-container-id-1 div.sk-item {position: relative;z-index: 1;}#sk-container-id-1 div.sk-parallel {display: flex;align-items: stretch;justify-content: center;background-color: white;position: relative;}#sk-container-id-1 div.sk-item::before, #sk-container-id-1 div.sk-parallel-item::before {content: \"\";position: absolute;border-left: 1px solid gray;box-sizing: border-box;top: 0;bottom: 0;left: 50%;z-index: -1;}#sk-container-id-1 div.sk-parallel-item {display: flex;flex-direction: column;z-index: 1;position: relative;background-color: white;}#sk-container-id-1 div.sk-parallel-item:first-child::after {align-self: flex-end;width: 50%;}#sk-container-id-1 div.sk-parallel-item:last-child::after {align-self: flex-start;width: 50%;}#sk-container-id-1 div.sk-parallel-item:only-child::after {width: 0;}#sk-container-id-1 div.sk-dashed-wrapped {border: 1px dashed gray;margin: 0 0.4em 0.5em 0.4em;box-sizing: border-box;padding-bottom: 0.4em;background-color: white;}#sk-container-id-1 div.sk-label label {font-family: monospace;font-weight: bold;display: inline-block;line-height: 1.2em;}#sk-container-id-1 div.sk-label-container {text-align: center;}#sk-container-id-1 div.sk-container {/* jupyter's `normalize.less` sets `[hidden] { display: none; }` but bootstrap.min.css set `[hidden] { display: none !important; }` so we also need the `!important` here to be able to override the default hidden behavior on the sphinx rendered scikit-learn.org. See: https://github.com/scikit-learn/scikit-learn/issues/21755 */display: inline-block !important;position: relative;}#sk-container-id-1 div.sk-text-repr-fallback {display: none;}</style><div id=\"sk-container-id-1\" class=\"sk-top-container\"><div class=\"sk-text-repr-fallback\"><pre>LinearRegression()</pre><b>In a Jupyter environment, please rerun this cell to show the HTML representation or trust the notebook. <br />On GitHub, the HTML representation is unable to render, please try loading this page with nbviewer.org.</b></div><div class=\"sk-container\" hidden><div class=\"sk-item\"><div class=\"sk-estimator sk-toggleable\"><input class=\"sk-toggleable__control sk-hidden--visually\" id=\"sk-estimator-id-1\" type=\"checkbox\" checked><label for=\"sk-estimator-id-1\" class=\"sk-toggleable__label sk-toggleable__label-arrow\">LinearRegression</label><div class=\"sk-toggleable__content\"><pre>LinearRegression()</pre></div></div></div></div></div>"
      ],
      "text/plain": [
       "LinearRegression()"
      ]
     },
     "execution_count": 16,
     "metadata": {},
     "output_type": "execute_result"
    }
   ],
   "source": [
    "# Fit the regression object onto the training set.\n",
    "regression.fit(X_train, y_train)"
   ]
  },
  {
   "cell_type": "code",
   "execution_count": 17,
   "id": "3231198a",
   "metadata": {},
   "outputs": [],
   "source": [
    "# Predict the values of y using X\n",
    "y_predicted = regression.predict(X_test)"
   ]
  },
  {
   "cell_type": "code",
   "execution_count": 18,
   "id": "d884df49",
   "metadata": {},
   "outputs": [
    {
     "data": {
      "image/png": "[encoded data removed]",
      "text/plain": [
       "<Figure size 640x480 with 1 Axes>"
      ]
     },
     "metadata": {},
     "output_type": "display_data"
    }
   ],
   "source": [
    "# Create a plot that shows the regression line from the model on the test set\n",
    "plot_test = plt\n",
    "plot_test.scatter(X_test, y_test, color='gray', s = 15)\n",
    "plot_test.plot(X_test, y_predicted, color='red', linewidth =3)\n",
    "plot_test.title('age vs insurance costs (Test set)')\n",
    "plot_test.xlabel('age')\n",
    "plot_test.ylabel('insurance costs')\n",
    "plot_test.show()"
   ]
  },
  {
   "cell_type": "code",
   "execution_count": 19,
   "id": "21479a6d",
   "metadata": {},
   "outputs": [],
   "source": [
    "#Comments\n",
    "# The plot confirms my hypothesis that older individuals tend to have higher insuraance costs compared to younger individuals as data points around the older age is small."
   ]
  },
  {
   "cell_type": "code",
   "execution_count": 20,
   "id": "f3112c20",
   "metadata": {},
   "outputs": [],
   "source": [
    "# Create objects that contain the model summary statistics.\n",
    "rmse = mean_squared_error(y_test, y_predicted) # This is the mean squared error\n",
    "r2 = r2_score(y_test, y_predicted) # This is the R2 score."
   ]
  },
  {
   "cell_type": "code",
   "execution_count": 21,
   "id": "fa340079",
   "metadata": {},
   "outputs": [
    {
     "name": "stdout",
     "output_type": "stream",
     "text": [
      "Slope [[236.87730363]]\n",
      "Mean squared errors: 141816780.40039897\n",
      "R2 score: 0.1106963310942739\n"
     ]
    }
   ],
   "source": [
    "print('Slope' , regression.coef_)\n",
    "print('Mean squared errors:', rmse)\n",
    "print('R2 score:', r2)"
   ]
  },
  {
   "cell_type": "code",
   "execution_count": 22,
   "id": "4f21ee26",
   "metadata": {},
   "outputs": [],
   "source": [
    "#comments\n",
    "#A positive slope value indicates a positive relationship between age and insurance costs;as age increases, insurance costs increases at a degree of 236.877\n",
    "\n",
    "#MSE of 14,181 is too large to predict the insuarance costs in thousands as the regression line is farther away from the data not making it a good fit to predict charges. Therefore, it is safe to say that regression may not be the best model to represent this data and cannot accurately predict the influence of age on insurance costs.\n",
    "\n",
    "# An R2 value of 0.11 indicates that Since 11 percent out of one hundred isn’t that great, this means that my model, well, isn’t that great of a fit either"
   ]
  },
  {
   "cell_type": "code",
   "execution_count": 23,
   "id": "d3a8a5f2",
   "metadata": {},
   "outputs": [
    {
     "data": {
      "text/html": [
       "<div>\n",
       "<style scoped>\n",
       "    .dataframe tbody tr th:only-of-type {\n",
       "        vertical-align: middle;\n",
       "    }\n",
       "\n",
       "    .dataframe tbody tr th {\n",
       "        vertical-align: top;\n",
       "    }\n",
       "\n",
       "    .dataframe thead th {\n",
       "        text-align: right;\n",
       "    }\n",
       "</style>\n",
       "<table border=\"1\" class=\"dataframe\">\n",
       "  <thead>\n",
       "    <tr style=\"text-align: right;\">\n",
       "      <th></th>\n",
       "      <th>Actual</th>\n",
       "      <th>Predicted</th>\n",
       "    </tr>\n",
       "  </thead>\n",
       "  <tbody>\n",
       "    <tr>\n",
       "      <th>0</th>\n",
       "      <td>9724.53000</td>\n",
       "      <td>16200.715762</td>\n",
       "    </tr>\n",
       "    <tr>\n",
       "      <th>1</th>\n",
       "      <td>8547.69130</td>\n",
       "      <td>15016.329244</td>\n",
       "    </tr>\n",
       "    <tr>\n",
       "      <th>2</th>\n",
       "      <td>45702.02235</td>\n",
       "      <td>15253.206547</td>\n",
       "    </tr>\n",
       "    <tr>\n",
       "      <th>3</th>\n",
       "      <td>12950.07120</td>\n",
       "      <td>18332.611494</td>\n",
       "    </tr>\n",
       "    <tr>\n",
       "      <th>4</th>\n",
       "      <td>9644.25250</td>\n",
       "      <td>15963.838458</td>\n",
       "    </tr>\n",
       "    <tr>\n",
       "      <th>5</th>\n",
       "      <td>4500.33925</td>\n",
       "      <td>11936.924296</td>\n",
       "    </tr>\n",
       "    <tr>\n",
       "      <th>6</th>\n",
       "      <td>2198.18985</td>\n",
       "      <td>8146.887438</td>\n",
       "    </tr>\n",
       "    <tr>\n",
       "      <th>7</th>\n",
       "      <td>11436.73815</td>\n",
       "      <td>15963.838458</td>\n",
       "    </tr>\n",
       "    <tr>\n",
       "      <th>8</th>\n",
       "      <td>7537.16390</td>\n",
       "      <td>12884.433511</td>\n",
       "    </tr>\n",
       "    <tr>\n",
       "      <th>9</th>\n",
       "      <td>5425.02335</td>\n",
       "      <td>11226.292385</td>\n",
       "    </tr>\n",
       "    <tr>\n",
       "      <th>10</th>\n",
       "      <td>6753.03800</td>\n",
       "      <td>11936.924296</td>\n",
       "    </tr>\n",
       "    <tr>\n",
       "      <th>11</th>\n",
       "      <td>10493.94580</td>\n",
       "      <td>15726.961154</td>\n",
       "    </tr>\n",
       "    <tr>\n",
       "      <th>12</th>\n",
       "      <td>7337.74800</td>\n",
       "      <td>14068.820029</td>\n",
       "    </tr>\n",
       "    <tr>\n",
       "      <th>13</th>\n",
       "      <td>4185.09790</td>\n",
       "      <td>11700.046993</td>\n",
       "    </tr>\n",
       "    <tr>\n",
       "      <th>14</th>\n",
       "      <td>18310.74200</td>\n",
       "      <td>10278.783171</td>\n",
       "    </tr>\n",
       "    <tr>\n",
       "      <th>15</th>\n",
       "      <td>10702.64240</td>\n",
       "      <td>15726.961154</td>\n",
       "    </tr>\n",
       "    <tr>\n",
       "      <th>16</th>\n",
       "      <td>12523.60480</td>\n",
       "      <td>18095.734191</td>\n",
       "    </tr>\n",
       "    <tr>\n",
       "      <th>17</th>\n",
       "      <td>3490.54910</td>\n",
       "      <td>10041.905867</td>\n",
       "    </tr>\n",
       "    <tr>\n",
       "      <th>18</th>\n",
       "      <td>6457.84340</td>\n",
       "      <td>12884.433511</td>\n",
       "    </tr>\n",
       "    <tr>\n",
       "      <th>19</th>\n",
       "      <td>33475.81715</td>\n",
       "      <td>8620.642045</td>\n",
       "    </tr>\n",
       "    <tr>\n",
       "      <th>20</th>\n",
       "      <td>23967.38305</td>\n",
       "      <td>15963.838458</td>\n",
       "    </tr>\n",
       "    <tr>\n",
       "      <th>21</th>\n",
       "      <td>12643.37780</td>\n",
       "      <td>17148.224976</td>\n",
       "    </tr>\n",
       "    <tr>\n",
       "      <th>22</th>\n",
       "      <td>23045.56616</td>\n",
       "      <td>16200.715762</td>\n",
       "    </tr>\n",
       "    <tr>\n",
       "      <th>23</th>\n",
       "      <td>23065.42070</td>\n",
       "      <td>15016.329244</td>\n",
       "    </tr>\n",
       "    <tr>\n",
       "      <th>24</th>\n",
       "      <td>1674.63230</td>\n",
       "      <td>9094.396653</td>\n",
       "    </tr>\n",
       "    <tr>\n",
       "      <th>25</th>\n",
       "      <td>4667.60765</td>\n",
       "      <td>11463.169689</td>\n",
       "    </tr>\n",
       "    <tr>\n",
       "      <th>26</th>\n",
       "      <td>3732.62510</td>\n",
       "      <td>10515.660475</td>\n",
       "    </tr>\n",
       "    <tr>\n",
       "      <th>27</th>\n",
       "      <td>7682.67000</td>\n",
       "      <td>13358.188118</td>\n",
       "    </tr>\n",
       "    <tr>\n",
       "      <th>28</th>\n",
       "      <td>3756.62160</td>\n",
       "      <td>11226.292385</td>\n",
       "    </tr>\n",
       "    <tr>\n",
       "      <th>29</th>\n",
       "      <td>8413.46305</td>\n",
       "      <td>14542.574636</td>\n",
       "    </tr>\n",
       "  </tbody>\n",
       "</table>\n",
       "</div>"
      ],
      "text/plain": [
       "         Actual     Predicted\n",
       "0    9724.53000  16200.715762\n",
       "1    8547.69130  15016.329244\n",
       "2   45702.02235  15253.206547\n",
       "3   12950.07120  18332.611494\n",
       "4    9644.25250  15963.838458\n",
       "5    4500.33925  11936.924296\n",
       "6    2198.18985   8146.887438\n",
       "7   11436.73815  15963.838458\n",
       "8    7537.16390  12884.433511\n",
       "9    5425.02335  11226.292385\n",
       "10   6753.03800  11936.924296\n",
       "11  10493.94580  15726.961154\n",
       "12   7337.74800  14068.820029\n",
       "13   4185.09790  11700.046993\n",
       "14  18310.74200  10278.783171\n",
       "15  10702.64240  15726.961154\n",
       "16  12523.60480  18095.734191\n",
       "17   3490.54910  10041.905867\n",
       "18   6457.84340  12884.433511\n",
       "19  33475.81715   8620.642045\n",
       "20  23967.38305  15963.838458\n",
       "21  12643.37780  17148.224976\n",
       "22  23045.56616  16200.715762\n",
       "23  23065.42070  15016.329244\n",
       "24   1674.63230   9094.396653\n",
       "25   4667.60765  11463.169689\n",
       "26   3732.62510  10515.660475\n",
       "27   7682.67000  13358.188118\n",
       "28   3756.62160  11226.292385\n",
       "29   8413.46305  14542.574636"
      ]
     },
     "execution_count": 23,
     "metadata": {},
     "output_type": "execute_result"
    }
   ],
   "source": [
    "# Create a dataframe comparing the actual and predicted values of y\n",
    "data = pd.DataFrame({'Actual': y_test.flatten(), 'Predicted': y_predicted.flatten()})\n",
    "data.head(30)"
   ]
  },
  {
   "cell_type": "code",
   "execution_count": 24,
   "id": "22dbdc88",
   "metadata": {},
   "outputs": [],
   "source": [
    "#Comments\n",
    "\n",
    "#The model's performance on the test set:\n",
    "\n",
    "#The model's predicted values differ significantly from the actual values. This discrepancy suggests that the model did not perform well on the test set. The predicted values are notably higher than the actual values, indicating a considerable deviation. The model seems to struggle in accurately estimating insurance costs based on age.\n",
    "\n",
    "#Reflections on possible data bias:\n",
    "\n",
    "#Data bias can significantly impact the model's performance. This data could be limited data by not generalizing well to new or diverse samples. In this case, if the training lacks diversity in terms of demographic, geographic, or other factors influencing insurance costs, the model may not capture the complexity and diversity of real-world scenarios, leading to biased predictions. Addressing bias in the dataset by collecting more diverse and representative data could improve the model's performance and fairness in predictions."
   ]
  },
  {
   "cell_type": "code",
   "execution_count": 25,
   "id": "e5c1c159",
   "metadata": {},
   "outputs": [],
   "source": [
    "#Compare how the regression fits the training set\n",
    "y_predicted_train = regression.predict(X_train) # This is predicting X_train"
   ]
  },
  {
   "cell_type": "code",
   "execution_count": 26,
   "id": "b23cdb85",
   "metadata": {},
   "outputs": [],
   "source": [
    "rmse = mean_squared_error(y_train, y_predicted_train)\n",
    "r2 = r2_score(y_train, y_predicted_train)"
   ]
  },
  {
   "cell_type": "code",
   "execution_count": 27,
   "id": "2a7af368",
   "metadata": {},
   "outputs": [
    {
     "name": "stdout",
     "output_type": "stream",
     "text": [
      "Slope [[236.87730363]]\n",
      "Mean squared errors: 129980518.9714462\n",
      "R2 score: 0.07806233269288265\n"
     ]
    }
   ],
   "source": [
    "print('Slope' , regression.coef_)\n",
    "print('Mean squared errors:', rmse)\n",
    "print('R2 score:', r2)"
   ]
  },
  {
   "cell_type": "code",
   "execution_count": 28,
   "id": "d88e6801",
   "metadata": {},
   "outputs": [],
   "source": [
    "# R2 on the training data set is lower 0.007 than that of the test set 0.11 meaning it fits better on the taining data set making my model useful when predicting things."
   ]
  },
  {
   "cell_type": "code",
   "execution_count": null,
   "id": "50f33c2f",
   "metadata": {},
   "outputs": [],
   "source": []
  }
 ],
 "metadata": {
  "kernelspec": {
   "display_name": "Python 3 (ipykernel)",
   "language": "python",
   "name": "python3"
  },
  "language_info": {
   "codemirror_mode": {
    "name": "ipython",
    "version": 3
   },
   "file_extension": ".py",
   "mimetype": "text/x-python",
   "name": "python",
   "nbconvert_exporter": "python",
   "pygments_lexer": "ipython3",
   "version": "3.10.9"
  }
 },
 "nbformat": 4,
 "nbformat_minor": 5
}
