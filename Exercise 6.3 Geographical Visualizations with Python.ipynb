{
 "cells": [
  {
   "cell_type": "code",
   "execution_count": 70,
   "id": "c8d07941",
   "metadata": {},
   "outputs": [],
   "source": [
    "#Importing libraries\n",
    "import pandas as pd\n",
    "import numpy as np\n",
    "import seaborn as sns\n",
    "import os\n",
    "import folium\n",
    "import json"
   ]
  },
  {
   "cell_type": "code",
   "execution_count": 71,
   "id": "a6e3fcb5",
   "metadata": {},
   "outputs": [],
   "source": [
    "#Importing json file\n",
    "Country_geo = r'C:\\Users\\B.Archibong\\Downloads\\Achievement 6\\Data\\Original\\geoJSON_us_regions.json'"
   ]
  },
  {
   "cell_type": "code",
   "execution_count": 72,
   "id": "688b651c",
   "metadata": {},
   "outputs": [
    {
     "data": {
      "text/plain": [
       "'C:\\\\Users\\\\B.Archibong\\\\Downloads\\\\Achievement 6\\\\Data\\\\Original\\\\geoJSON_us_regions.json'"
      ]
     },
     "execution_count": 72,
     "metadata": {},
     "output_type": "execute_result"
    }
   ],
   "source": [
    "Country_geo"
   ]
  },
  {
   "cell_type": "code",
   "execution_count": 73,
   "id": "514ba36d",
   "metadata": {},
   "outputs": [],
   "source": [
    "# Read JSON file and convert to dictionary\n",
    "file_path= 'C:\\\\Users\\\\B.Archibong\\\\Downloads\\\\Achievement 6\\\\Data\\\\Original\\\\geoJSON_us_regions.json'\n",
    "with open(file_path, 'r') as file:\n",
    "    country_geo_dict = json.load(file)\n",
    "    #coordinates = country_geo_dict['coordinates']"
   ]
  },
  {
   "cell_type": "code",
   "execution_count": null,
   "id": "09ea98f5",
   "metadata": {},
   "outputs": [],
   "source": []
  },
  {
   "cell_type": "code",
   "execution_count": 74,
   "id": "fd866c93",
   "metadata": {},
   "outputs": [
    {
     "name": "stdout",
     "output_type": "stream",
     "text": [
      "{'type': 'FeatureCollection', 'features': [{'type': 'Feature', 'properties': {'name': 'Midwest'}, 'geometry': {'type': 'Polygon', 'coordinates': [[[-104.32617187499999, 49.03786794532644], [-103.974609375, 41.04621681452063], [-101.6015625, 41.04621681452063], [-102.48046875, 37.020098201368114], [-94.5703125, 37.09023980307208], [-93.603515625, 36.4566360115962], [-89.296875, 37.23032838760387], [-87.71484375, 38.272688535980976], [-85.4296875, 38.54816542304656], [-84.638671875, 39.16414104768742], [-83.232421875, 38.75408327579141], [-82.177734375, 38.685509760012], [-80.85937499999999, 39.842286020743394], [-80.595703125, 41.57436130598913], [-83.583984375, 41.96765920367816], [-82.79296874999999, 42.4234565179383], [-82.705078125, 43.389081939117496], [-83.232421875, 43.70759350405294], [-84.111328125, 43.96119063892024], [-83.49609375, 44.653024159812], [-84.55078125, 45.460130637921004], [-85.4296875, 45.1510532655634], [-86.396484375, 44.213709909702054], [-86.220703125, 43.389081939117496], [-86.220703125, 42.16340342422401], [-87.1875, 41.64007838467894], [-87.62695312499999, 42.35854391749705], [-87.890625, 43.51668853502906], [-87.5390625, 44.5278427984555], [-87.62695312499999, 45.089035564831036], [-88.330078125, 45.89000815866184], [-91.0546875, 46.86019101567027], [-92.63671875, 46.558860303117164], [-90.17578124999999, 48.16608541901253], [-91.669921875, 48.16608541901253], [-94.658203125, 48.69096039092549], [-95.537109375, 49.15296965617042], [-104.32617187499999, 49.03786794532644]]]}}, {'type': 'Feature', 'properties': {'name': 'Northeast'}, 'geometry': {'type': 'Polygon', 'coordinates': [[[-80.57373046875, 41.590796851056005], [-80.85937499999999, 39.791654835253425], [-75.8056640625, 39.690280594818034], [-75.4541015625, 39.67337039176558], [-74.794921875, 39.06184913429154], [-74.06982421875, 40.16208338164617], [-74.267578125, 40.44694705960048], [-74.24560546875, 40.613952441166596], [-72.1142578125, 40.94671366508002], [-73.47656249999999, 41.09591205639546], [-72.1142578125, 41.409775832009565], [-71.56494140625, 41.393294288784865], [-71.38916015625, 41.705728515237524], [-71.12548828125, 41.5579215778042], [-70.81787109374999, 41.68932225997044], [-70.59814453125, 41.75492216766298], [-70.48828125, 41.52502957323801], [-70.0048828125, 41.60722821271717], [-70.7958984375, 42.13082130188811], [-71.015625, 42.50450285299051], [-70.7958984375, 42.97250158602597], [-70.15869140625, 43.77109381775651], [-69.345703125, 43.91372326852401], [-68.97216796875, 44.213709909702054], [-68.79638671875, 44.68427737181225], [-68.48876953125, 44.512176171071054], [-68.31298828125, 44.6061127451739], [-68.115234375, 44.41808794374846], [-66.81884765625, 44.731125592643274], [-67.30224609375, 45.22848059584359], [-67.78564453125, 46.057985244793024], [-67.78564453125, 46.70973594407157], [-68.13720703125, 47.338822694822], [-68.97216796875, 47.14489748555398], [-69.2578125, 47.42808726171425], [-69.9609375, 46.81509864599243], [-70.13671875, 46.255846818480315], [-70.400390625, 45.706179285330855], [-70.751953125, 45.3521452458518], [-71.1474609375, 45.182036837015886], [-71.4990234375, 45.10454630976873], [-71.4990234375, 44.99588261816546], [-74.794921875, 45.042478050891546], [-75.87158203125, 44.41808794374846], [-76.13525390624999, 44.08758502824516], [-76.00341796875, 43.67581809328341], [-76.201171875, 43.54854811091286], [-76.88232421875, 43.34116005412307], [-77.1240234375, 43.18114705939968], [-77.54150390625, 43.27720532212024], [-78.79394531249999, 43.29320031385282], [-79.07958984375, 43.14909399920127], [-78.79394531249999, 42.8115217450979], [-78.94775390625, 42.56926437219384], [-79.73876953125, 42.114523952464246], [-80.33203125, 41.82045509614034], [-80.57373046875, 41.590796851056005]]]}}, {'type': 'Feature', 'properties': {'name': 'South'}, 'geometry': {'type': 'Polygon', 'coordinates': [[[-102.48046875, 37.125286284966805], [-103.0078125, 37.125286284966805], [-102.9638671875, 32.0639555946604], [-106.6552734375, 31.914867503276223], [-105.16113281249999, 30.751277776257812], [-104.4140625, 29.611670115197377], [-103.22753906249999, 29.036960648558267], [-102.3046875, 30.29701788337205], [-101.337890625, 29.6880527498568], [-99.6240234375, 27.488781168937997], [-98.96484375, 26.352497858154024], [-98.0419921875, 26.194876675795218], [-97.20703125, 25.958044673317843], [-97.5146484375, 27.0982539061379], [-97.470703125, 27.994401411046148], [-96.8994140625, 28.497660832963472], [-95.6689453125, 28.92163128242129], [-95.00976562499999, 29.19053283229458], [-95.00976562499999, 29.84064389983441], [-94.3505859375, 29.611670115197377], [-93.55957031249999, 29.80251790576445], [-93.3837890625, 29.878755346037977], [-92.28515625, 29.57345707301757], [-91.93359375, 29.954934549656144], [-91.40625, 29.6880527498568], [-91.40625, 30.107117887092357], [-91.1865234375, 29.6880527498568], [-90.791015625, 29.305561325527698], [-89.9560546875, 29.49698759653577], [-89.8681640625, 30.06909396443887], [-89.5166015625, 30.29701788337205], [-87.978515625, 30.600093873550072], [-86.7919921875, 30.44867367928756], [-86.220703125, 30.44867367928756], [-85.7373046875, 30.107117887092357], [-85.0341796875, 29.878755346037977], [-83.9794921875, 30.14512718337613], [-83.232421875, 29.305561325527698], [-82.529296875, 28.729130483430154], [-82.5732421875, 27.877928333679495], [-82.44140625, 27.293689224852407], [-81.82617187499999, 26.509904531413927], [-81.0791015625, 25.878994400196202], [-80.85937499999999, 25.284437746983055], [-80.15625, 25.522614647623293], [-79.9365234375, 26.54922257769204], [-80.15625, 27.254629577800063], [-80.5078125, 28.14950321154457], [-81.1669921875, 29.458731185355344], [-81.4306640625, 30.183121842195515], [-81.650390625, 30.90222470517144], [-81.474609375, 31.615965936476076], [-80.9912109375, 32.0639555946604], [-79.98046875, 32.84267363195431], [-79.40917968749999, 33.358061612778876], [-77.6953125, 34.27083595165], [-76.81640625, 34.813803317113155], [-76.81640625, 35.496456056584165], [-75.76171875, 35.67514743608467], [-76.1572265625, 35.96022296929667], [-76.640625, 36.10237644873644], [-76.201171875, 36.35052700542763], [-76.11328125, 37.020098201368114], [-76.6845703125, 37.37015718405753], [-76.46484375, 37.71859032558816], [-75.89355468749999, 37.405073750176925], [-75.234375, 38.30718056188316], [-75.8056640625, 39.67337039176558], [-80.85937499999999, 39.774769485295465], [-82.08984375, 38.61687046392973], [-84.4189453125, 39.06184913429154], [-85.60546875, 38.54816542304656], [-87.890625, 38.30718056188316], [-89.1650390625, 37.19533058280065], [-93.603515625, 36.421282443649496], [-94.7021484375, 37.020098201368114], [-102.48046875, 37.125286284966805]]]}}, {'type': 'Feature', 'properties': {'name': 'West'}, 'geometry': {'type': 'Polygon', 'coordinates': [[[-104.3701171875, 49.03786794532644], [-123.134765625, 49.03786794532644], [-122.3876953125, 48.37084770238366], [-122.08007812499999, 47.78363463526376], [-122.29980468749999, 47.487513008956554], [-122.51953124999999, 47.30903424774781], [-122.73925781250001, 47.12995075666307], [-123.04687499999999, 47.635783590864854], [-123.00292968749999, 48.10743118848039], [-123.8818359375, 48.16608541901253], [-124.541015625, 48.45835188280866], [-124.5849609375, 47.87214396888731], [-124.1015625, 47.07012182383309], [-123.96972656249999, 46.10370875598026], [-124.541015625, 42.97250158602597], [-124.1455078125, 41.77131167976407], [-124.365234375, 40.94671366508002], [-124.365234375, 40.3130432088809], [-123.662109375, 38.993572058209466], [-122.51953124999999, 37.85750715625203], [-122.03613281249999, 37.125286284966805], [-121.9482421875, 36.56260003738545], [-120.5419921875, 34.415973384481866], [-118.7841796875, 34.08906131584994], [-117.72949218749999, 33.7243396617476], [-117.158203125, 32.62087018318113], [-114.78515624999999, 32.76880048488168], [-111.005859375, 31.466153715024294], [-108.10546875, 31.466153715024294], [-107.9736328125, 31.80289258670676], [-106.5234375, 31.765537409484374], [-103.0078125, 32.10118973232094], [-103.1396484375, 37.125286284966805], [-102.568359375, 37.19533058280065], [-101.7333984375, 40.97989806962013], [-104.0185546875, 41.07935114946899], [-104.3701171875, 49.03786794532644]]]}}]}\n"
     ]
    }
   ],
   "source": [
    "# Display the resulting dictionary\n",
    "print(country_geo_dict)"
   ]
  },
  {
   "cell_type": "code",
   "execution_count": 75,
   "id": "2151a6bf",
   "metadata": {},
   "outputs": [],
   "source": [
    "#Importing the insurance data\n",
    "df= pd.read_csv(r'C:\\Users\\B.Archibong\\Downloads\\Achievement 6\\Data\\Prepared\\Prepared.csv', index_col= False)"
   ]
  },
  {
   "cell_type": "code",
   "execution_count": 76,
   "id": "eb959d4a",
   "metadata": {},
   "outputs": [
    {
     "data": {
      "text/html": [
       "<div>\n",
       "<style scoped>\n",
       "    .dataframe tbody tr th:only-of-type {\n",
       "        vertical-align: middle;\n",
       "    }\n",
       "\n",
       "    .dataframe tbody tr th {\n",
       "        vertical-align: top;\n",
       "    }\n",
       "\n",
       "    .dataframe thead th {\n",
       "        text-align: right;\n",
       "    }\n",
       "</style>\n",
       "<table border=\"1\" class=\"dataframe\">\n",
       "  <thead>\n",
       "    <tr style=\"text-align: right;\">\n",
       "      <th></th>\n",
       "      <th>Unnamed: 0</th>\n",
       "      <th>age</th>\n",
       "      <th>sex</th>\n",
       "      <th>bmi</th>\n",
       "      <th>children</th>\n",
       "      <th>smoker</th>\n",
       "      <th>region</th>\n",
       "      <th>charges</th>\n",
       "    </tr>\n",
       "  </thead>\n",
       "  <tbody>\n",
       "    <tr>\n",
       "      <th>0</th>\n",
       "      <td>0</td>\n",
       "      <td>19</td>\n",
       "      <td>female</td>\n",
       "      <td>27.900</td>\n",
       "      <td>0</td>\n",
       "      <td>yes</td>\n",
       "      <td>southwest</td>\n",
       "      <td>16884.92400</td>\n",
       "    </tr>\n",
       "    <tr>\n",
       "      <th>1</th>\n",
       "      <td>1</td>\n",
       "      <td>18</td>\n",
       "      <td>male</td>\n",
       "      <td>33.770</td>\n",
       "      <td>1</td>\n",
       "      <td>no</td>\n",
       "      <td>southeast</td>\n",
       "      <td>1725.55230</td>\n",
       "    </tr>\n",
       "    <tr>\n",
       "      <th>2</th>\n",
       "      <td>2</td>\n",
       "      <td>28</td>\n",
       "      <td>male</td>\n",
       "      <td>33.000</td>\n",
       "      <td>3</td>\n",
       "      <td>no</td>\n",
       "      <td>southeast</td>\n",
       "      <td>4449.46200</td>\n",
       "    </tr>\n",
       "    <tr>\n",
       "      <th>3</th>\n",
       "      <td>3</td>\n",
       "      <td>33</td>\n",
       "      <td>male</td>\n",
       "      <td>22.705</td>\n",
       "      <td>0</td>\n",
       "      <td>no</td>\n",
       "      <td>northwest</td>\n",
       "      <td>21984.47061</td>\n",
       "    </tr>\n",
       "    <tr>\n",
       "      <th>4</th>\n",
       "      <td>4</td>\n",
       "      <td>32</td>\n",
       "      <td>male</td>\n",
       "      <td>28.880</td>\n",
       "      <td>0</td>\n",
       "      <td>no</td>\n",
       "      <td>northwest</td>\n",
       "      <td>3866.85520</td>\n",
       "    </tr>\n",
       "  </tbody>\n",
       "</table>\n",
       "</div>"
      ],
      "text/plain": [
       "   Unnamed: 0  age     sex     bmi  children smoker     region      charges\n",
       "0           0   19  female  27.900         0    yes  southwest  16884.92400\n",
       "1           1   18    male  33.770         1     no  southeast   1725.55230\n",
       "2           2   28    male  33.000         3     no  southeast   4449.46200\n",
       "3           3   33    male  22.705         0     no  northwest  21984.47061\n",
       "4           4   32    male  28.880         0     no  northwest   3866.85520"
      ]
     },
     "execution_count": 76,
     "metadata": {},
     "output_type": "execute_result"
    }
   ],
   "source": [
    "df.head()"
   ]
  },
  {
   "cell_type": "code",
   "execution_count": 77,
   "id": "51d77a7f",
   "metadata": {},
   "outputs": [
    {
     "data": {
      "text/plain": [
       "(1337, 8)"
      ]
     },
     "execution_count": 77,
     "metadata": {},
     "output_type": "execute_result"
    }
   ],
   "source": [
    "df.shape"
   ]
  },
  {
   "cell_type": "code",
   "execution_count": 78,
   "id": "f43190b3",
   "metadata": {},
   "outputs": [],
   "source": [
    "#DATA WRANGLING\n",
    "columns= ['age','sex','bmi','smoker','charges','region']"
   ]
  },
  {
   "cell_type": "code",
   "execution_count": 79,
   "id": "94e05e82",
   "metadata": {},
   "outputs": [],
   "source": [
    "#Creating a subset\n",
    "region_rec= df[columns]"
   ]
  },
  {
   "cell_type": "code",
   "execution_count": 80,
   "id": "879d600c",
   "metadata": {},
   "outputs": [
    {
     "data": {
      "text/html": [
       "<div>\n",
       "<style scoped>\n",
       "    .dataframe tbody tr th:only-of-type {\n",
       "        vertical-align: middle;\n",
       "    }\n",
       "\n",
       "    .dataframe tbody tr th {\n",
       "        vertical-align: top;\n",
       "    }\n",
       "\n",
       "    .dataframe thead th {\n",
       "        text-align: right;\n",
       "    }\n",
       "</style>\n",
       "<table border=\"1\" class=\"dataframe\">\n",
       "  <thead>\n",
       "    <tr style=\"text-align: right;\">\n",
       "      <th></th>\n",
       "      <th>age</th>\n",
       "      <th>sex</th>\n",
       "      <th>bmi</th>\n",
       "      <th>smoker</th>\n",
       "      <th>charges</th>\n",
       "      <th>region</th>\n",
       "    </tr>\n",
       "  </thead>\n",
       "  <tbody>\n",
       "    <tr>\n",
       "      <th>0</th>\n",
       "      <td>19</td>\n",
       "      <td>female</td>\n",
       "      <td>27.900</td>\n",
       "      <td>yes</td>\n",
       "      <td>16884.92400</td>\n",
       "      <td>southwest</td>\n",
       "    </tr>\n",
       "    <tr>\n",
       "      <th>1</th>\n",
       "      <td>18</td>\n",
       "      <td>male</td>\n",
       "      <td>33.770</td>\n",
       "      <td>no</td>\n",
       "      <td>1725.55230</td>\n",
       "      <td>southeast</td>\n",
       "    </tr>\n",
       "    <tr>\n",
       "      <th>2</th>\n",
       "      <td>28</td>\n",
       "      <td>male</td>\n",
       "      <td>33.000</td>\n",
       "      <td>no</td>\n",
       "      <td>4449.46200</td>\n",
       "      <td>southeast</td>\n",
       "    </tr>\n",
       "    <tr>\n",
       "      <th>3</th>\n",
       "      <td>33</td>\n",
       "      <td>male</td>\n",
       "      <td>22.705</td>\n",
       "      <td>no</td>\n",
       "      <td>21984.47061</td>\n",
       "      <td>northwest</td>\n",
       "    </tr>\n",
       "    <tr>\n",
       "      <th>4</th>\n",
       "      <td>32</td>\n",
       "      <td>male</td>\n",
       "      <td>28.880</td>\n",
       "      <td>no</td>\n",
       "      <td>3866.85520</td>\n",
       "      <td>northwest</td>\n",
       "    </tr>\n",
       "  </tbody>\n",
       "</table>\n",
       "</div>"
      ],
      "text/plain": [
       "   age     sex     bmi smoker      charges     region\n",
       "0   19  female  27.900    yes  16884.92400  southwest\n",
       "1   18    male  33.770     no   1725.55230  southeast\n",
       "2   28    male  33.000     no   4449.46200  southeast\n",
       "3   33    male  22.705     no  21984.47061  northwest\n",
       "4   32    male  28.880     no   3866.85520  northwest"
      ]
     },
     "execution_count": 80,
     "metadata": {},
     "output_type": "execute_result"
    }
   ],
   "source": [
    "region_rec.head()"
   ]
  },
  {
   "cell_type": "code",
   "execution_count": 81,
   "id": "94cdc86e",
   "metadata": {},
   "outputs": [],
   "source": [
    "# Create a mapping dictionary for the regions\n",
    "region_mapping = {\n",
    "    'southwest': 'Midwest',\n",
    "    'southeast': 'South',\n",
    "    'northwest': 'West',\n",
    "    'northeast': 'Northeast'}"
   ]
  },
  {
   "cell_type": "code",
   "execution_count": 82,
   "id": "edf27ba1",
   "metadata": {},
   "outputs": [
    {
     "name": "stderr",
     "output_type": "stream",
     "text": [
      "C:\\Users\\B.Archibong\\AppData\\Local\\Temp\\ipykernel_10952\\4009195641.py:2: SettingWithCopyWarning: \n",
      "A value is trying to be set on a copy of a slice from a DataFrame.\n",
      "Try using .loc[row_indexer,col_indexer] = value instead\n",
      "\n",
      "See the caveats in the documentation: https://pandas.pydata.org/pandas-docs/stable/user_guide/indexing.html#returning-a-view-versus-a-copy\n",
      "  region_rec['REGION_NAME'] = region_rec['region'].map(region_mapping)\n"
     ]
    }
   ],
   "source": [
    "# Map the regions in the DataFrame to the JSON names and create the new column 'REGION_NAME'\n",
    "region_rec['REGION_NAME'] = region_rec['region'].map(region_mapping)\n"
   ]
  },
  {
   "cell_type": "code",
   "execution_count": 83,
   "id": "93aa4583",
   "metadata": {},
   "outputs": [
    {
     "name": "stdout",
     "output_type": "stream",
     "text": [
      "   age     sex     bmi smoker      charges     region REGION_NAME\n",
      "0   19  female  27.900    yes  16884.92400  southwest     Midwest\n",
      "1   18    male  33.770     no   1725.55230  southeast       South\n",
      "2   28    male  33.000     no   4449.46200  southeast       South\n",
      "3   33    male  22.705     no  21984.47061  northwest        West\n",
      "4   32    male  28.880     no   3866.85520  northwest        West\n"
     ]
    }
   ],
   "source": [
    "# Display the updated DataFrame\n",
    "print(region_rec.head())"
   ]
  },
  {
   "cell_type": "code",
   "execution_count": 84,
   "id": "bf61cf3e",
   "metadata": {},
   "outputs": [
    {
     "name": "stderr",
     "output_type": "stream",
     "text": [
      "C:\\Users\\B.Archibong\\AppData\\Local\\Temp\\ipykernel_10952\\3377023281.py:1: SettingWithCopyWarning: \n",
      "A value is trying to be set on a copy of a slice from a DataFrame\n",
      "\n",
      "See the caveats in the documentation: https://pandas.pydata.org/pandas-docs/stable/user_guide/indexing.html#returning-a-view-versus-a-copy\n",
      "  region_rec.drop(columns=['region'], inplace=True)\n"
     ]
    }
   ],
   "source": [
    "region_rec.drop(columns=['region'], inplace=True)"
   ]
  },
  {
   "cell_type": "code",
   "execution_count": 85,
   "id": "584071b2",
   "metadata": {},
   "outputs": [
    {
     "data": {
      "text/html": [
       "<div>\n",
       "<style scoped>\n",
       "    .dataframe tbody tr th:only-of-type {\n",
       "        vertical-align: middle;\n",
       "    }\n",
       "\n",
       "    .dataframe tbody tr th {\n",
       "        vertical-align: top;\n",
       "    }\n",
       "\n",
       "    .dataframe thead th {\n",
       "        text-align: right;\n",
       "    }\n",
       "</style>\n",
       "<table border=\"1\" class=\"dataframe\">\n",
       "  <thead>\n",
       "    <tr style=\"text-align: right;\">\n",
       "      <th></th>\n",
       "      <th>age</th>\n",
       "      <th>sex</th>\n",
       "      <th>bmi</th>\n",
       "      <th>smoker</th>\n",
       "      <th>charges</th>\n",
       "      <th>REGION_NAME</th>\n",
       "    </tr>\n",
       "  </thead>\n",
       "  <tbody>\n",
       "    <tr>\n",
       "      <th>0</th>\n",
       "      <td>19</td>\n",
       "      <td>female</td>\n",
       "      <td>27.900</td>\n",
       "      <td>yes</td>\n",
       "      <td>16884.92400</td>\n",
       "      <td>Midwest</td>\n",
       "    </tr>\n",
       "    <tr>\n",
       "      <th>1</th>\n",
       "      <td>18</td>\n",
       "      <td>male</td>\n",
       "      <td>33.770</td>\n",
       "      <td>no</td>\n",
       "      <td>1725.55230</td>\n",
       "      <td>South</td>\n",
       "    </tr>\n",
       "    <tr>\n",
       "      <th>2</th>\n",
       "      <td>28</td>\n",
       "      <td>male</td>\n",
       "      <td>33.000</td>\n",
       "      <td>no</td>\n",
       "      <td>4449.46200</td>\n",
       "      <td>South</td>\n",
       "    </tr>\n",
       "    <tr>\n",
       "      <th>3</th>\n",
       "      <td>33</td>\n",
       "      <td>male</td>\n",
       "      <td>22.705</td>\n",
       "      <td>no</td>\n",
       "      <td>21984.47061</td>\n",
       "      <td>West</td>\n",
       "    </tr>\n",
       "    <tr>\n",
       "      <th>4</th>\n",
       "      <td>32</td>\n",
       "      <td>male</td>\n",
       "      <td>28.880</td>\n",
       "      <td>no</td>\n",
       "      <td>3866.85520</td>\n",
       "      <td>West</td>\n",
       "    </tr>\n",
       "  </tbody>\n",
       "</table>\n",
       "</div>"
      ],
      "text/plain": [
       "   age     sex     bmi smoker      charges REGION_NAME\n",
       "0   19  female  27.900    yes  16884.92400     Midwest\n",
       "1   18    male  33.770     no   1725.55230       South\n",
       "2   28    male  33.000     no   4449.46200       South\n",
       "3   33    male  22.705     no  21984.47061        West\n",
       "4   32    male  28.880     no   3866.85520        West"
      ]
     },
     "execution_count": 85,
     "metadata": {},
     "output_type": "execute_result"
    }
   ],
   "source": [
    "region_rec.head()"
   ]
  },
  {
   "cell_type": "code",
   "execution_count": 86,
   "id": "7c66a160",
   "metadata": {},
   "outputs": [
    {
     "data": {
      "text/html": [
       "<div>\n",
       "<style scoped>\n",
       "    .dataframe tbody tr th:only-of-type {\n",
       "        vertical-align: middle;\n",
       "    }\n",
       "\n",
       "    .dataframe tbody tr th {\n",
       "        vertical-align: top;\n",
       "    }\n",
       "\n",
       "    .dataframe thead th {\n",
       "        text-align: right;\n",
       "    }\n",
       "</style>\n",
       "<table border=\"1\" class=\"dataframe\">\n",
       "  <thead>\n",
       "    <tr style=\"text-align: right;\">\n",
       "      <th></th>\n",
       "      <th>age</th>\n",
       "      <th>sex</th>\n",
       "      <th>bmi</th>\n",
       "      <th>smoker</th>\n",
       "      <th>charges</th>\n",
       "      <th>REGION_NAME</th>\n",
       "    </tr>\n",
       "  </thead>\n",
       "  <tbody>\n",
       "    <tr>\n",
       "      <th>0</th>\n",
       "      <td>19</td>\n",
       "      <td>female</td>\n",
       "      <td>27.900</td>\n",
       "      <td>yes</td>\n",
       "      <td>16884.92400</td>\n",
       "      <td>Midwest</td>\n",
       "    </tr>\n",
       "    <tr>\n",
       "      <th>1</th>\n",
       "      <td>18</td>\n",
       "      <td>male</td>\n",
       "      <td>33.770</td>\n",
       "      <td>no</td>\n",
       "      <td>1725.55230</td>\n",
       "      <td>South</td>\n",
       "    </tr>\n",
       "    <tr>\n",
       "      <th>2</th>\n",
       "      <td>28</td>\n",
       "      <td>male</td>\n",
       "      <td>33.000</td>\n",
       "      <td>no</td>\n",
       "      <td>4449.46200</td>\n",
       "      <td>South</td>\n",
       "    </tr>\n",
       "    <tr>\n",
       "      <th>3</th>\n",
       "      <td>33</td>\n",
       "      <td>male</td>\n",
       "      <td>22.705</td>\n",
       "      <td>no</td>\n",
       "      <td>21984.47061</td>\n",
       "      <td>West</td>\n",
       "    </tr>\n",
       "    <tr>\n",
       "      <th>4</th>\n",
       "      <td>32</td>\n",
       "      <td>male</td>\n",
       "      <td>28.880</td>\n",
       "      <td>no</td>\n",
       "      <td>3866.85520</td>\n",
       "      <td>West</td>\n",
       "    </tr>\n",
       "  </tbody>\n",
       "</table>\n",
       "</div>"
      ],
      "text/plain": [
       "   age     sex     bmi smoker      charges REGION_NAME\n",
       "0   19  female  27.900    yes  16884.92400     Midwest\n",
       "1   18    male  33.770     no   1725.55230       South\n",
       "2   28    male  33.000     no   4449.46200       South\n",
       "3   33    male  22.705     no  21984.47061        West\n",
       "4   32    male  28.880     no   3866.85520        West"
      ]
     },
     "execution_count": 86,
     "metadata": {},
     "output_type": "execute_result"
    }
   ],
   "source": [
    "region_rec.head()"
   ]
  },
  {
   "cell_type": "code",
   "execution_count": 87,
   "id": "ad8fd120",
   "metadata": {},
   "outputs": [],
   "source": [
    "# Create a data frame with just the states and the values for rating we want plotted\n",
    "data_to_plot = region_rec[['REGION_NAME','charges']]\n",
    "    \n",
    "   "
   ]
  },
  {
   "cell_type": "code",
   "execution_count": 88,
   "id": "92e4bd28",
   "metadata": {},
   "outputs": [
    {
     "data": {
      "text/html": [
       "<div>\n",
       "<style scoped>\n",
       "    .dataframe tbody tr th:only-of-type {\n",
       "        vertical-align: middle;\n",
       "    }\n",
       "\n",
       "    .dataframe tbody tr th {\n",
       "        vertical-align: top;\n",
       "    }\n",
       "\n",
       "    .dataframe thead th {\n",
       "        text-align: right;\n",
       "    }\n",
       "</style>\n",
       "<table border=\"1\" class=\"dataframe\">\n",
       "  <thead>\n",
       "    <tr style=\"text-align: right;\">\n",
       "      <th></th>\n",
       "      <th>REGION_NAME</th>\n",
       "      <th>charges</th>\n",
       "    </tr>\n",
       "  </thead>\n",
       "  <tbody>\n",
       "    <tr>\n",
       "      <th>0</th>\n",
       "      <td>Midwest</td>\n",
       "      <td>16884.92400</td>\n",
       "    </tr>\n",
       "    <tr>\n",
       "      <th>1</th>\n",
       "      <td>South</td>\n",
       "      <td>1725.55230</td>\n",
       "    </tr>\n",
       "    <tr>\n",
       "      <th>2</th>\n",
       "      <td>South</td>\n",
       "      <td>4449.46200</td>\n",
       "    </tr>\n",
       "    <tr>\n",
       "      <th>3</th>\n",
       "      <td>West</td>\n",
       "      <td>21984.47061</td>\n",
       "    </tr>\n",
       "    <tr>\n",
       "      <th>4</th>\n",
       "      <td>West</td>\n",
       "      <td>3866.85520</td>\n",
       "    </tr>\n",
       "  </tbody>\n",
       "</table>\n",
       "</div>"
      ],
      "text/plain": [
       "  REGION_NAME      charges\n",
       "0     Midwest  16884.92400\n",
       "1       South   1725.55230\n",
       "2       South   4449.46200\n",
       "3        West  21984.47061\n",
       "4        West   3866.85520"
      ]
     },
     "execution_count": 88,
     "metadata": {},
     "output_type": "execute_result"
    }
   ],
   "source": [
    "data_to_plot.head()"
   ]
  },
  {
   "cell_type": "code",
   "execution_count": 89,
   "id": "a5448702",
   "metadata": {},
   "outputs": [],
   "source": [
    "# Setup a folium map at a high-level zoom\n",
    "map = folium.Map(location = [100,0], zoom_start = 1.5)#Create a map centered at a specific location\n",
    "#m = folium.Map(location= coordinates, zoom_start=12)"
   ]
  },
  {
   "cell_type": "code",
   "execution_count": 90,
   "id": "5ca13065",
   "metadata": {},
   "outputs": [
    {
     "data": {
      "text/plain": [
       "<folium.map.LayerControl at 0x26c4007a2c0>"
      ]
     },
     "execution_count": 90,
     "metadata": {},
     "output_type": "execute_result"
    }
   ],
   "source": [
    "folium.Choropleth(\n",
    "    geo_data = Country_geo, \n",
    "    data = data_to_plot,\n",
    "    columns = ['REGION_NAME', 'charges'],\n",
    "    key_on = 'feature.properties.name',\n",
    "    fill_color = 'YlOrBr', fill_opacity=0.6, line_opacity=0.1,\n",
    "    legend_name = \"charges\").add_to(map)\n",
    "folium.LayerControl().add_to(map)"
   ]
  },
  {
   "cell_type": "code",
   "execution_count": 91,
   "id": "d7b3b661",
   "metadata": {},
   "outputs": [],
   "source": [
    "map.save('plot_data3.html')"
   ]
  },
  {
   "cell_type": "code",
   "execution_count": null,
   "id": "c46a91b9",
   "metadata": {},
   "outputs": [],
   "source": [
    "#Do certain regions exhibit higher medical costs compared to others? \n",
    "#West exhibits higher medical costs compared to other regions.This answers one of my existing questions\n"
   ]
  }
 ],
 "metadata": {
  "kernelspec": {
   "display_name": "Python 3 (ipykernel)",
   "language": "python",
   "name": "python3"
  },
  "language_info": {
   "codemirror_mode": {
    "name": "ipython",
    "version": 3
   },
   "file_extension": ".py",
   "mimetype": "text/x-python",
   "name": "python",
   "nbconvert_exporter": "python",
   "pygments_lexer": "ipython3",
   "version": "3.10.9"
  }
 },
 "nbformat": 4,
 "nbformat_minor": 5
}
